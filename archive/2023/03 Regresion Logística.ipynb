{
 "cells": [
  {
   "cell_type": "markdown",
   "metadata": {},
   "source": [
    "# 3. Regresión Logística\n",
    "Entrenaremos usando scikit-learn una regresión logística para clasificar dígitos manuscritos."
   ]
  },
  {
   "cell_type": "code",
   "execution_count": 79,
   "metadata": {},
   "outputs": [],
   "source": [
    "import numpy as np\n",
    "import matplotlib.pyplot as plt"
   ]
  },
  {
   "cell_type": "code",
   "execution_count": 80,
   "metadata": {},
   "outputs": [],
   "source": [
    "import numpy as np\n",
    "np.set_printoptions(suppress=True)  # no usar notacion \"e\""
   ]
  },
  {
   "cell_type": "markdown",
   "metadata": {},
   "source": [
    "## Conjunto de Datos\n",
    "\n",
    "Usaremos el [\"digits dataset\"](https://scikit-learn.org/stable/modules/generated/sklearn.datasets.load_digits.html) que viene con scikit-learn.\n"
   ]
  },
  {
   "cell_type": "code",
   "execution_count": 81,
   "metadata": {
    "scrolled": true
   },
   "outputs": [
    {
     "data": {
      "image/png": "[encoded data removed]",
      "text/plain": [
       "<Figure size 300x300 with 1 Axes>"
      ]
     },
     "metadata": {},
     "output_type": "display_data"
    }
   ],
   "source": [
    "from sklearn import datasets\n",
    "\n",
    "# Cargamos el dataset entero:\n",
    "digits = datasets.load_digits()\n",
    "\n",
    "#Display the first digit\n",
    "plt.figure(1, figsize=(3, 3))\n",
    "plt.imshow(digits.images[1], cmap=plt.cm.gray_r, interpolation='nearest')\n",
    "plt.show()"
   ]
  },
  {
   "cell_type": "code",
   "execution_count": 82,
   "metadata": {},
   "outputs": [
    {
     "data": {
      "text/plain": [
       "1"
      ]
     },
     "execution_count": 82,
     "metadata": {},
     "output_type": "execute_result"
    }
   ],
   "source": [
    "digits.target[1]"
   ]
  },
  {
   "cell_type": "code",
   "execution_count": 83,
   "metadata": {},
   "outputs": [
    {
     "data": {
      "text/plain": [
       "array([[ 0.,  0.,  0., 12., 13.,  5.,  0.,  0.],\n",
       "       [ 0.,  0.,  0., 11., 16.,  9.,  0.,  0.],\n",
       "       [ 0.,  0.,  3., 15., 16.,  6.,  0.,  0.],\n",
       "       [ 0.,  7., 15., 16., 16.,  2.,  0.,  0.],\n",
       "       [ 0.,  0.,  1., 16., 16.,  3.,  0.,  0.],\n",
       "       [ 0.,  0.,  1., 16., 16.,  6.,  0.,  0.],\n",
       "       [ 0.,  0.,  1., 16., 16.,  6.,  0.,  0.],\n",
       "       [ 0.,  0.,  0., 11., 16., 10.,  0.,  0.]])"
      ]
     },
     "execution_count": 83,
     "metadata": {},
     "output_type": "execute_result"
    }
   ],
   "source": [
    "digits.images[1]"
   ]
  },
  {
   "cell_type": "code",
   "execution_count": 32,
   "metadata": {},
   "outputs": [],
   "source": [
    "# Cargamos sólo vectores X e y:\n",
    "X, y = datasets.load_digits(return_X_y=True)"
   ]
  },
  {
   "cell_type": "code",
   "execution_count": 84,
   "metadata": {},
   "outputs": [
    {
     "data": {
      "text/plain": [
       "(1797, 64)"
      ]
     },
     "execution_count": 84,
     "metadata": {},
     "output_type": "execute_result"
    }
   ],
   "source": [
    "X.shape"
   ]
  },
  {
   "cell_type": "code",
   "execution_count": 85,
   "metadata": {},
   "outputs": [
    {
     "data": {
      "text/plain": [
       "Counter({0: 178,\n",
       "         1: 182,\n",
       "         2: 177,\n",
       "         3: 183,\n",
       "         4: 181,\n",
       "         5: 182,\n",
       "         6: 181,\n",
       "         7: 179,\n",
       "         8: 174,\n",
       "         9: 180})"
      ]
     },
     "execution_count": 85,
     "metadata": {},
     "output_type": "execute_result"
    }
   ],
   "source": [
    "# Cuántas imágenes hay para cada dígito?\n",
    "from collections import Counter\n",
    "\n",
    "Counter(y)"
   ]
  },
  {
   "cell_type": "markdown",
   "metadata": {},
   "source": [
    "## División en Entrenamiento y Evaluación\n",
    "\n",
    "Dividiremos aleatoriamente los datos en una parte para entrenamiento (80%) y otra para evaluación (20%).\n",
    "\n",
    "Usaremos \n",
    "[train_test_split](https://scikit-learn.org/stable/modules/generated/sklearn.model_selection.train_test_split.html) de scikit-learn:"
   ]
  },
  {
   "cell_type": "code",
   "execution_count": 87,
   "metadata": {},
   "outputs": [],
   "source": [
    "from sklearn.model_selection import train_test_split\n",
    "\n",
    "X_train, X_val, y_train, y_val = train_test_split(X, y, train_size=0.8, random_state=0)"
   ]
  },
  {
   "cell_type": "code",
   "execution_count": 88,
   "metadata": {},
   "outputs": [
    {
     "data": {
      "text/plain": [
       "((1437, 64), (360, 64))"
      ]
     },
     "execution_count": 88,
     "metadata": {},
     "output_type": "execute_result"
    }
   ],
   "source": [
    "X_train.shape, X_val.shape"
   ]
  },
  {
   "cell_type": "markdown",
   "metadata": {},
   "source": [
    "## Instanciar y Entrenar"
   ]
  },
  {
   "cell_type": "code",
   "execution_count": 89,
   "metadata": {},
   "outputs": [
    {
     "name": "stderr",
     "output_type": "stream",
     "text": [
      "/usr/lib/python3/dist-packages/sklearn/linear_model/_logistic.py:458: ConvergenceWarning: lbfgs failed to converge (status=1):\n",
      "STOP: TOTAL NO. of ITERATIONS REACHED LIMIT.\n",
      "\n",
      "Increase the number of iterations (max_iter) or scale the data as shown in:\n",
      "    https://scikit-learn.org/stable/modules/preprocessing.html\n",
      "Please also refer to the documentation for alternative solver options:\n",
      "    https://scikit-learn.org/stable/modules/linear_model.html#logistic-regression\n",
      "  n_iter_i = _check_optimize_result(\n"
     ]
    },
    {
     "data": {
      "text/html": [
       "<style>#sk-container-id-3 {color: black;background-color: white;}#sk-container-id-3 pre{padding: 0;}#sk-container-id-3 div.sk-toggleable {background-color: white;}#sk-container-id-3 label.sk-toggleable__label {cursor: pointer;display: block;width: 100%;margin-bottom: 0;padding: 0.3em;box-sizing: border-box;text-align: center;}#sk-container-id-3 label.sk-toggleable__label-arrow:before {content: \"▸\";float: left;margin-right: 0.25em;color: #696969;}#sk-container-id-3 label.sk-toggleable__label-arrow:hover:before {color: black;}#sk-container-id-3 div.sk-estimator:hover label.sk-toggleable__label-arrow:before {color: black;}#sk-container-id-3 div.sk-toggleable__content {max-height: 0;max-width: 0;overflow: hidden;text-align: left;background-color: #f0f8ff;}#sk-container-id-3 div.sk-toggleable__content pre {margin: 0.2em;color: black;border-radius: 0.25em;background-color: #f0f8ff;}#sk-container-id-3 input.sk-toggleable__control:checked~div.sk-toggleable__content {max-height: 200px;max-width: 100%;overflow: auto;}#sk-container-id-3 input.sk-toggleable__control:checked~label.sk-toggleable__label-arrow:before {content: \"▾\";}#sk-container-id-3 div.sk-estimator input.sk-toggleable__control:checked~label.sk-toggleable__label {background-color: #d4ebff;}#sk-container-id-3 div.sk-label input.sk-toggleable__control:checked~label.sk-toggleable__label {background-color: #d4ebff;}#sk-container-id-3 input.sk-hidden--visually {border: 0;clip: rect(1px 1px 1px 1px);clip: rect(1px, 1px, 1px, 1px);height: 1px;margin: -1px;overflow: hidden;padding: 0;position: absolute;width: 1px;}#sk-container-id-3 div.sk-estimator {font-family: monospace;background-color: #f0f8ff;border: 1px dotted black;border-radius: 0.25em;box-sizing: border-box;margin-bottom: 0.5em;}#sk-container-id-3 div.sk-estimator:hover {background-color: #d4ebff;}#sk-container-id-3 div.sk-parallel-item::after {content: \"\";width: 100%;border-bottom: 1px solid gray;flex-grow: 1;}#sk-container-id-3 div.sk-label:hover label.sk-toggleable__label {background-color: #d4ebff;}#sk-container-id-3 div.sk-serial::before {content: \"\";position: absolute;border-left: 1px solid gray;box-sizing: border-box;top: 0;bottom: 0;left: 50%;z-index: 0;}#sk-container-id-3 div.sk-serial {display: flex;flex-direction: column;align-items: center;background-color: white;padding-right: 0.2em;padding-left: 0.2em;position: relative;}#sk-container-id-3 div.sk-item {position: relative;z-index: 1;}#sk-container-id-3 div.sk-parallel {display: flex;align-items: stretch;justify-content: center;background-color: white;position: relative;}#sk-container-id-3 div.sk-item::before, #sk-container-id-3 div.sk-parallel-item::before {content: \"\";position: absolute;border-left: 1px solid gray;box-sizing: border-box;top: 0;bottom: 0;left: 50%;z-index: -1;}#sk-container-id-3 div.sk-parallel-item {display: flex;flex-direction: column;z-index: 1;position: relative;background-color: white;}#sk-container-id-3 div.sk-parallel-item:first-child::after {align-self: flex-end;width: 50%;}#sk-container-id-3 div.sk-parallel-item:last-child::after {align-self: flex-start;width: 50%;}#sk-container-id-3 div.sk-parallel-item:only-child::after {width: 0;}#sk-container-id-3 div.sk-dashed-wrapped {border: 1px dashed gray;margin: 0 0.4em 0.5em 0.4em;box-sizing: border-box;padding-bottom: 0.4em;background-color: white;}#sk-container-id-3 div.sk-label label {font-family: monospace;font-weight: bold;display: inline-block;line-height: 1.2em;}#sk-container-id-3 div.sk-label-container {text-align: center;}#sk-container-id-3 div.sk-container {/* jupyter's `normalize.less` sets `[hidden] { display: none; }` but bootstrap.min.css set `[hidden] { display: none !important; }` so we also need the `!important` here to be able to override the default hidden behavior on the sphinx rendered scikit-learn.org. See: https://github.com/scikit-learn/scikit-learn/issues/21755 */display: inline-block !important;position: relative;}#sk-container-id-3 div.sk-text-repr-fallback {display: none;}</style><div id=\"sk-container-id-3\" class=\"sk-top-container\"><div class=\"sk-text-repr-fallback\"><pre>LogisticRegression()</pre><b>In a Jupyter environment, please rerun this cell to show the HTML representation or trust the notebook. <br />On GitHub, the HTML representation is unable to render, please try loading this page with nbviewer.org.</b></div><div class=\"sk-container\" hidden><div class=\"sk-item\"><div class=\"sk-estimator sk-toggleable\"><input class=\"sk-toggleable__control sk-hidden--visually\" id=\"sk-estimator-id-3\" type=\"checkbox\" checked><label for=\"sk-estimator-id-3\" class=\"sk-toggleable__label sk-toggleable__label-arrow\">LogisticRegression</label><div class=\"sk-toggleable__content\"><pre>LogisticRegression()</pre></div></div></div></div></div>"
      ],
      "text/plain": [
       "LogisticRegression()"
      ]
     },
     "execution_count": 89,
     "metadata": {},
     "output_type": "execute_result"
    }
   ],
   "source": [
    "from sklearn.linear_model import LogisticRegression\n",
    "\n",
    "model = LogisticRegression()\n",
    "model.fit(X_train, y_train)  # entrenamiento"
   ]
  },
  {
   "cell_type": "markdown",
   "metadata": {},
   "source": [
    "## Inspeccionar Parámetros"
   ]
  },
  {
   "cell_type": "code",
   "execution_count": 41,
   "metadata": {},
   "outputs": [
    {
     "data": {
      "text/plain": [
       "array([0, 1, 2, 3, 4, 5, 6, 7, 8, 9])"
      ]
     },
     "execution_count": 41,
     "metadata": {},
     "output_type": "execute_result"
    }
   ],
   "source": [
    "model.classes_"
   ]
  },
  {
   "cell_type": "code",
   "execution_count": 42,
   "metadata": {},
   "outputs": [
    {
     "data": {
      "text/plain": [
       "array([[ 0.        , -0.00481055, -0.07125191,  0.09967566,  0.03678739,\n",
       "        -0.09590434, -0.10801524, -0.00931637, -0.00009193, -0.04894419,\n",
       "        -0.01368792,  0.15079321,  0.08517038,  0.08968538, -0.0371555 ,\n",
       "        -0.00698259, -0.00002545,  0.04703136,  0.14807468, -0.0261566 ,\n",
       "        -0.32116716,  0.19757049,  0.09082348, -0.00179109, -0.00001259,\n",
       "         0.11392941,  0.11830185, -0.19077172, -0.49271053,  0.02846844,\n",
       "         0.07748874, -0.00042589,  0.        ,  0.13087884,  0.11104784,\n",
       "        -0.18240873, -0.39935769,  0.02827369,  0.0425763 ,  0.        ,\n",
       "        -0.00094019, -0.05036513,  0.25935548, -0.1100199 , -0.16961014,\n",
       "         0.11515413,  0.01738826, -0.00056268, -0.00328804, -0.1000517 ,\n",
       "         0.08527656, -0.01313448,  0.17065788,  0.08146484, -0.05294094,\n",
       "        -0.00675119, -0.00001531, -0.00898164, -0.09780433,  0.16501645,\n",
       "        -0.03330174, -0.07810348, -0.06718667, -0.02569132],\n",
       "       [ 0.        , -0.01658672, -0.0592345 ,  0.04033491, -0.7670927 ,\n",
       "         0.40235448,  0.15973972, -0.00966726, -0.0006876 , -0.31902717,\n",
       "        -0.39720822, -0.35638798,  0.23416658, -0.16596912, -0.32933711,\n",
       "        -0.00979482, -0.00032857,  0.27295666, -0.03792022,  0.64988864,\n",
       "         0.27655797, -0.14980114,  0.00985986, -0.00286706, -0.01646663,\n",
       "        -0.12453156,  0.00007037,  0.02941629,  0.29987559,  0.08435809,\n",
       "        -0.04914715, -0.00006374,  0.        ,  0.1300061 ,  0.11848492,\n",
       "        -0.18033166,  0.11307606,  0.0952831 , -0.16613619,  0.        ,\n",
       "        -0.0001763 , -0.2516059 ,  0.00879135,  0.32488673,  0.06115251,\n",
       "        -0.18607951, -0.27452832, -0.03808496, -0.00166622, -0.11829157,\n",
       "        -0.03962477,  0.12629694,  0.28244534,  0.048397  , -0.09311705,\n",
       "         0.12311605, -0.00050684,  0.00518827, -0.1823809 ,  0.05476368,\n",
       "         0.03002454,  0.06739856,  0.15631939,  0.19266621],\n",
       "       [ 0.        ,  0.00373188,  0.05084897,  0.06812577, -0.01497421,\n",
       "        -0.04031528, -0.03052837, -0.00277151, -0.01386579,  0.07920856,\n",
       "         0.02973347, -0.23463112,  0.21511768, -0.04762882,  0.03429749,\n",
       "        -0.00282019, -0.00687699, -0.00380589, -0.05900322, -0.28229706,\n",
       "         0.25996838, -0.0341807 ,  0.14595583, -0.00087741, -0.00001288,\n",
       "        -0.16745756, -0.49413859, -0.37150797, -0.10964665, -0.03851778,\n",
       "         0.04901978, -0.00003778,  0.        , -0.09737172, -0.26463873,\n",
       "        -0.09586155, -0.02955386, -0.2292013 , -0.2198983 ,  0.        ,\n",
       "        -0.00016368,  0.1162557 ,  0.09896211,  0.4345522 , -0.26572237,\n",
       "        -0.34847923, -0.08937018,  0.00807144,  0.00355341,  0.12363911,\n",
       "         0.14175443,  0.43543148,  0.34634906,  0.23884017,  0.15350087,\n",
       "         0.09043238,  0.00122664,  0.02115094,  0.15988505,  0.03686584,\n",
       "         0.06748598,  0.26558603,  0.34013845,  0.13937027],\n",
       "       [ 0.        ,  0.09674203, -0.09501135,  0.08688928,  0.44477546,\n",
       "         0.13722624,  0.02481299, -0.00050229, -0.00382095,  0.17081816,\n",
       "         0.18155153,  0.08576487,  0.20412498,  0.18345394,  0.20845051,\n",
       "        -0.01696393, -0.00105595, -0.15178336, -0.34933824, -0.45377104,\n",
       "         0.00488246, -0.21620503,  0.00485754, -0.00105482, -0.0000126 ,\n",
       "        -0.18545118, -0.38422175, -0.10324877,  0.25869927, -0.44531075,\n",
       "        -0.27542367, -0.00003778,  0.        , -0.10238572, -0.10685638,\n",
       "         0.06172737,  0.01871973, -0.12452304,  0.02262901,  0.        ,\n",
       "        -0.00016363, -0.09253441, -0.28789362, -0.51131074,  0.05624698,\n",
       "         0.26470987,  0.26374943, -0.00886467, -0.00017532, -0.13528908,\n",
       "        -0.05127038, -0.20181061,  0.03862599,  0.22869326,  0.36928101,\n",
       "        -0.1046485 , -0.00001646,  0.06561544,  0.24386255,  0.10151459,\n",
       "         0.05412596,  0.02590749, -0.01354834, -0.13830986],\n",
       "       [ 0.        , -0.01948093, -0.07886833, -0.37239082, -0.18286203,\n",
       "        -0.35867516, -0.24850108,  0.05902547, -0.00009387,  0.07944844,\n",
       "        -0.24815103, -0.20449397, -0.41349854, -0.15612466, -0.1408155 ,\n",
       "         0.04448024, -0.00002563,  0.21988785,  0.07244967,  0.14378189,\n",
       "         0.01137018,  0.0407857 , -0.03233121,  0.0414982 ,  0.01663913,\n",
       "         0.02073685,  0.42023798,  0.15289154,  0.13682692,  0.10371394,\n",
       "         0.42118746,  0.00389727,  0.        ,  0.14222229,  0.14213528,\n",
       "        -0.1342839 ,  0.26665494,  0.19191441,  0.47755386,  0.        ,\n",
       "         0.0025658 ,  0.49308236, -0.05784693,  0.65610048,  0.44469253,\n",
       "         0.12689823,  0.12545818, -0.0014068 ,  0.00528096,  0.24416704,\n",
       "        -0.21854098,  0.09003584,  0.06336032, -0.28932724, -0.2059337 ,\n",
       "        -0.00446833, -0.00001931, -0.03623045,  0.0020992 , -0.25631071,\n",
       "        -0.1075385 , -0.17858773, -0.08114315, -0.00638768],\n",
       "       [ 0.        ,  0.06593826,  0.44094551, -0.15794507,  0.0699898 ,\n",
       "         0.3063062 ,  0.36216119, -0.06499014, -0.00019747,  0.02046224,\n",
       "         0.29570237,  0.17889763,  0.0664006 , -0.13931601, -0.05047866,\n",
       "        -0.01943407, -0.00015549, -0.04027779,  0.12056946, -0.03228538,\n",
       "        -0.45293206, -0.5062706 , -0.38613801, -0.00601205, -0.00006344,\n",
       "         0.19107798,  0.29203818, -0.16221405,  0.28551112, -0.0347056 ,\n",
       "        -0.23198526, -0.00004633,  0.        , -0.05106356,  0.06681038,\n",
       "        -0.2234603 , -0.00841041, -0.07009415,  0.00803683,  0.        ,\n",
       "        -0.0001639 , -0.18571703, -0.16341757, -0.27642526, -0.13286695,\n",
       "         0.14803273, -0.06628706, -0.00061807, -0.00016611, -0.00534781,\n",
       "        -0.03524516, -0.12890052, -0.12318292, -0.0484818 , -0.03797014,\n",
       "        -0.00978092, -0.00001318,  0.03626394,  0.40770303,  0.20622291,\n",
       "        -0.05009044,  0.08299337, -0.01594424, -0.03716417],\n",
       "       [ 0.        , -0.00971368, -0.181734  , -0.05069555, -0.11285241,\n",
       "        -0.16144951, -0.04790947, -0.00230693, -0.00013461, -0.1354252 ,\n",
       "        -0.18276191,  0.08641861, -0.34792446,  0.04246313,  0.04616559,\n",
       "        -0.00183681, -0.00004754, -0.07745927,  0.18735378,  0.06888353,\n",
       "        -0.26327989, -0.2849247 , -0.07600897, -0.001091  , -0.00001547,\n",
       "         0.14620394,  0.04091075,  0.15228679, -0.15935907, -0.13703379,\n",
       "        -0.19745937, -0.00016757,  0.        ,  0.12074444,  0.12090859,\n",
       "         0.26506349, -0.07395516,  0.00009831,  0.09723008,  0.        ,\n",
       "        -0.00046374, -0.11175222,  0.44075191,  0.08467978,  0.18045171,\n",
       "         0.13665174,  0.1355239 ,  0.0433793 , -0.00120495, -0.11824854,\n",
       "         0.15113866,  0.09324284, -0.11959795,  0.2293733 ,  0.06847323,\n",
       "        -0.11003007, -0.00001285, -0.01098423, -0.19603426, -0.09776485,\n",
       "         0.02764897,  0.08277241, -0.05456814, -0.07097491],\n",
       "       [ 0.        ,  0.05880817,  0.01733321,  0.13329228,  0.19048199,\n",
       "         0.02269848,  0.12803267,  0.08833636, -0.00008834,  0.10032759,\n",
       "         0.13567958,  0.1086054 ,  0.49599043, -0.08919183,  0.0241337 ,\n",
       "         0.05464431, -0.00002533, -0.26247765, -0.17779112, -0.19610628,\n",
       "         0.08499805,  0.25885662,  0.13180013,  0.00586524, -0.00001669,\n",
       "        -0.13808083, -0.05598457, -0.24636203, -0.02486188,  0.17335105,\n",
       "         0.23886343, -0.00201451,  0.        ,  0.14615453,  0.06510972,\n",
       "        -0.07209825,  0.13917457,  0.2460908 ,  0.18552253,  0.        ,\n",
       "        -0.00016372,  0.02322356, -0.00738087,  0.03894111,  0.11734611,\n",
       "        -0.09711406, -0.04439615, -0.00053283, -0.00020951, -0.05451525,\n",
       "        -0.03372531,  0.09876318, -0.23468339, -0.38137109, -0.126298  ,\n",
       "        -0.00350944, -0.00002692,  0.01459547, -0.04957712, -0.19613632,\n",
       "        -0.26146646, -0.28147486, -0.09063718, -0.00769634],\n",
       "       [ 0.        , -0.04852852, -0.00389814, -0.05026028,  0.14203687,\n",
       "        -0.11402104, -0.21990425, -0.01350804,  0.0190996 , -0.03138737,\n",
       "         0.08751344,  0.05567776, -0.35091109,  0.22986699,  0.10795996,\n",
       "        -0.00599935,  0.00856909, -0.08877364,  0.14699611, -0.0125224 ,\n",
       "         0.12621818,  0.16285478,  0.06013424, -0.00165912, -0.000026  ,\n",
       "         0.14328862, -0.15241807,  0.38647101, -0.25484265,  0.03035039,\n",
       "        -0.00987348, -0.0000915 ,  0.        , -0.05281429, -0.08797735,\n",
       "         0.34847403,  0.09431086, -0.19654319, -0.50980043,  0.        ,\n",
       "        -0.00016697,  0.060828  ,  0.13889977,  0.13223911,  0.14585038,\n",
       "         0.00726906,  0.15946779, -0.00175188, -0.00195455,  0.01945506,\n",
       "         0.1467098 , -0.2766576 , -0.24398646,  0.17239592,  0.05666056,\n",
       "        -0.02263783, -0.00060125,  0.03501505, -0.27883101, -0.11370055,\n",
       "         0.26089116, -0.06680672, -0.04459128, -0.05712274],\n",
       "       [ 0.        , -0.12609994, -0.01912946,  0.20297383,  0.19370983,\n",
       "        -0.09822007, -0.01988817, -0.04429928, -0.00011904,  0.08451895,\n",
       "         0.11162869,  0.12935559, -0.18863657,  0.05276099,  0.13677953,\n",
       "        -0.03529278, -0.00002813,  0.08470174, -0.05139089,  0.14058471,\n",
       "         0.27338389,  0.53131457,  0.05104711, -0.03201088, -0.00001284,\n",
       "         0.00028433,  0.21520385,  0.35303891,  0.06050788,  0.23532602,\n",
       "        -0.02267048, -0.00101217,  0.        , -0.36637091, -0.16502428,\n",
       "         0.2131795 , -0.12065904,  0.05870137,  0.06228633,  0.        ,\n",
       "        -0.00016366, -0.00141493, -0.43022164, -0.77364351, -0.43754075,\n",
       "        -0.16704297, -0.22700585,  0.00037115, -0.00016966,  0.14448273,\n",
       "        -0.14647285, -0.22326706, -0.17998788, -0.27998435, -0.13165584,\n",
       "         0.04827787, -0.00001451, -0.1216328 , -0.00892221,  0.09952894,\n",
       "         0.01222054,  0.08031494, -0.12883884,  0.01131055]])"
      ]
     },
     "execution_count": 42,
     "metadata": {},
     "output_type": "execute_result"
    }
   ],
   "source": [
    "# coef_[i, j] es el score que aporte el feature j a la clase i\n",
    "model.coef_"
   ]
  },
  {
   "cell_type": "code",
   "execution_count": 90,
   "metadata": {},
   "outputs": [
    {
     "data": {
      "text/plain": [
       "array([0., 0., 0., 0., 0., 0., 0., 0., 0., 0.])"
      ]
     },
     "execution_count": 90,
     "metadata": {},
     "output_type": "execute_result"
    }
   ],
   "source": [
    "model.coef_[:,0]  # pixel esquina superior izquierda"
   ]
  },
  {
   "cell_type": "code",
   "execution_count": 91,
   "metadata": {},
   "outputs": [
    {
     "data": {
      "text/plain": [
       "array([ 0.09967566,  0.04033491,  0.06812577,  0.08688928, -0.37239082,\n",
       "       -0.15794507, -0.05069555,  0.13329228, -0.05026028,  0.20297383])"
      ]
     },
     "execution_count": 91,
     "metadata": {},
     "output_type": "execute_result"
    }
   ],
   "source": [
    "model.coef_[:,3]  # un pixel arriba al medio"
   ]
  },
  {
   "cell_type": "code",
   "execution_count": 45,
   "metadata": {},
   "outputs": [
    {
     "data": {
      "text/plain": [
       "array([-0.18240873, -0.18033166, -0.09586155,  0.06172737, -0.1342839 ,\n",
       "       -0.2234603 ,  0.26506349, -0.07209825,  0.34847403,  0.2131795 ])"
      ]
     },
     "execution_count": 45,
     "metadata": {},
     "output_type": "execute_result"
    }
   ],
   "source": [
    "model.coef_[:,3 + 4 * 8]  # un pixel del medio"
   ]
  },
  {
   "cell_type": "code",
   "execution_count": 92,
   "metadata": {},
   "outputs": [
    {
     "data": {
      "text/plain": [
       "array([ 0.00078128, -0.08191362,  0.00472313,  0.00414523,  0.05347982,\n",
       "        0.00397389, -0.00428581,  0.0111837 ,  0.0539352 , -0.0460228 ])"
      ]
     },
     "execution_count": 92,
     "metadata": {},
     "output_type": "execute_result"
    }
   ],
   "source": [
    "model.intercept_  # bias"
   ]
  },
  {
   "cell_type": "markdown",
   "metadata": {},
   "source": [
    "## Evaluar"
   ]
  },
  {
   "cell_type": "code",
   "execution_count": 93,
   "metadata": {},
   "outputs": [
    {
     "data": {
      "text/plain": [
       "0.9666666666666667"
      ]
     },
     "execution_count": 93,
     "metadata": {},
     "output_type": "execute_result"
    }
   ],
   "source": [
    "from sklearn.metrics import accuracy_score\n",
    "\n",
    "y_pred = model.predict(X_val)\n",
    "accuracy_score(y_val, y_pred)"
   ]
  },
  {
   "cell_type": "markdown",
   "metadata": {},
   "source": [
    "## Predecir"
   ]
  },
  {
   "cell_type": "markdown",
   "metadata": {},
   "source": [
    "Definimos un nuevo dato de entrada para ver como se comporta el clasificador"
   ]
  },
  {
   "cell_type": "code",
   "execution_count": 126,
   "metadata": {},
   "outputs": [],
   "source": [
    "x = np.array([[ 0.,  0.,  0.,  16., 16.,  0.,  0.,  0.],\n",
    "              [ 0.,  0.,  0.,  16., 16.,  0.,  0.,  0.],\n",
    "              [ 0.,  0.,  0.,  16., 16.,  0.,  0.,  0.],\n",
    "              [ 0.,  0.,  0.,  16., 16.,  0.,  0.,  0.],\n",
    "              [ 0.,  0.,  0.,  16., 16.,  0.,  0.,  0.],\n",
    "              [ 0.,  0.,  0.,  16., 16.,  0.,  0.,  0.],\n",
    "              [ 0.,  0.,  0.,  16., 16.,  0.,  0.,  0.],\n",
    "              [ 0.,  0.,  0.,  16., 16.,  0.,  0.,  0.]])"
   ]
  },
  {
   "cell_type": "code",
   "execution_count": 127,
   "metadata": {},
   "outputs": [
    {
     "data": {
      "text/plain": [
       "<matplotlib.image.AxesImage at 0x7f7c111bded0>"
      ]
     },
     "execution_count": 127,
     "metadata": {},
     "output_type": "execute_result"
    },
    {
     "data": {
      "image/png": "[encoded data removed]",
      "text/plain": [
       "<Figure size 640x480 with 1 Axes>"
      ]
     },
     "metadata": {},
     "output_type": "display_data"
    }
   ],
   "source": [
    "plt.imshow(x,cmap=plt.cm.gray_r)"
   ]
  },
  {
   "cell_type": "code",
   "execution_count": 120,
   "metadata": {},
   "outputs": [],
   "source": [
    "x = x.ravel()  # aplanar la matriz en un vector"
   ]
  },
  {
   "cell_type": "markdown",
   "metadata": {},
   "source": [
    "Haciendo uso del modelo entrenado veamos como lo clasifica:"
   ]
  },
  {
   "cell_type": "code",
   "execution_count": 121,
   "metadata": {},
   "outputs": [
    {
     "data": {
      "text/plain": [
       "array([2])"
      ]
     },
     "execution_count": 121,
     "metadata": {},
     "output_type": "execute_result"
    }
   ],
   "source": [
    "# Clase más probable:\n",
    "model.predict([x])"
   ]
  },
  {
   "cell_type": "markdown",
   "metadata": {},
   "source": [
    "También podemos ver que probabilidad le asigno a cada clase:"
   ]
  },
  {
   "cell_type": "code",
   "execution_count": 122,
   "metadata": {},
   "outputs": [
    {
     "data": {
      "text/plain": [
       "array([[0.        , 0.15600583, 0.84399389, 0.00000028, 0.        ,\n",
       "        0.        , 0.        , 0.        , 0.        , 0.        ]])"
      ]
     },
     "execution_count": 122,
     "metadata": {},
     "output_type": "execute_result"
    }
   ],
   "source": [
    "# Probabilidad de cada clase (resultado del softmax):\n",
    "model.predict_proba([x])"
   ]
  },
  {
   "cell_type": "code",
   "execution_count": 123,
   "metadata": {},
   "outputs": [
    {
     "data": {
      "text/plain": [
       "1.0000000000000002"
      ]
     },
     "execution_count": 123,
     "metadata": {},
     "output_type": "execute_result"
    }
   ],
   "source": [
    "model.predict_proba([x]).sum()"
   ]
  },
  {
   "cell_type": "code",
   "execution_count": 124,
   "metadata": {},
   "outputs": [
    {
     "data": {
      "text/plain": [
       "array([[-25.47088889,  25.80275348,  27.49100537,  12.56005904,\n",
       "        -12.23511707,  -1.30678015,  -8.60016444,  -8.35568534,\n",
       "          0.56818766, -10.45336967]])"
      ]
     },
     "execution_count": 124,
     "metadata": {},
     "output_type": "execute_result"
    }
   ],
   "source": [
    "# \"Score\" para cada clase (antes del softmax):\n",
    "model.decision_function([x])"
   ]
  },
  {
   "cell_type": "code",
   "execution_count": 125,
   "metadata": {},
   "outputs": [
    {
     "data": {
      "text/plain": [
       "array([-25.47088889,  25.80275348,  27.49100537,  12.56005904,\n",
       "       -12.23511707,  -1.30678015,  -8.60016444,  -8.35568534,\n",
       "         0.56818766, -10.45336967])"
      ]
     },
     "execution_count": 125,
     "metadata": {},
     "output_type": "execute_result"
    }
   ],
   "source": [
    "# El mismo score a mano:\n",
    "model.coef_.dot(x) + model.intercept_"
   ]
  },
  {
   "cell_type": "markdown",
   "metadata": {},
   "source": [
    "## Ejercicios\n",
    "\n",
    "1. Calcular el softmax a mano para un ejemplo y verificar que da igual que predict_proba.\n",
    "2. Buscar en el conjunto de test una imagen mal clasificada. Graficarla. ¿Qué tan lejos estuvo de ser correctamente clasificada?\n",
    "3. Con la imagen anterior, ¿qué píxeles influyeron más en la clasificación incorrecta? Intentar modificar los valores para que la clasifiación sea correcta.\n",
    "4. Buscar en el conjunto de test la imagen **peor** clasificada. Graficarla. ¿Qué tan difícil es para un humano identificar el dígito?"
   ]
  }
 ],
 "metadata": {
  "kernelspec": {
   "display_name": "Python 3 (ipykernel)",
   "language": "python",
   "name": "python3"
  },
  "language_info": {
   "codemirror_mode": {
    "name": "ipython",
    "version": 3
   },
   "file_extension": ".py",
   "mimetype": "text/x-python",
   "name": "python",
   "nbconvert_exporter": "python",
   "pygments_lexer": "ipython3",
   "version": "3.11.4"
  }
 },
 "nbformat": 4,
 "nbformat_minor": 4
}
