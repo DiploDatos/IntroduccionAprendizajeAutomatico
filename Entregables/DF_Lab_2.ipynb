{
 "cells": [
  {
   "cell_type": "markdown",
   "metadata": {},
   "source": [
    "# Laboratorio 2: Armado de un esquema de aprendizaje automático\n",
    "\n",
    "En el laboratorio final se espera que puedan poner en práctica los conocimientos adquiridos en el curso, trabajando con un conjunto de datos de clasificación.\n",
    "\n",
    "El objetivo es que se introduzcan en el desarrollo de un esquema para hacer tareas de aprendizaje automático: selección de un modelo, ajuste de hiperparámetros y evaluación.\n",
    "\n",
    "El conjunto de datos a utilizar está en `./data/loan_data.csv`. Si abren el archivo verán que al principio (las líneas que empiezan con `#`) describen el conjunto de datos y sus atributos (incluyendo el atributo de etiqueta o clase).\n",
    "\n",
    "Se espera que hagan uso de las herramientas vistas en el curso. Se espera que hagan uso especialmente de las herramientas brindadas por `scikit-learn`."
   ]
  },
  {
   "cell_type": "code",
   "execution_count": 23,
   "metadata": {},
   "outputs": [],
   "source": [
    "import numpy as np\n",
    "import pandas as pd\n",
    "\n",
    "from sklearn.linear_model import SGDClassifier\n",
    "from sklearn.metrics import precision_score\n",
    "from sklearn.metrics import recall_score\n",
    "from sklearn.metrics import f1_score\n",
    "from sklearn.metrics import classification_report\n",
    "from sklearn.metrics import confusion_matrix\n",
    "from utils import plot_confusion_matrix\n",
    "from sklearn.metrics import roc_curve\n",
    "from sklearn.metrics import roc_auc_score\n",
    "from sklearn.metrics import precision_recall_curve\n",
    "from sklearn.metrics import accuracy_score\n",
    "from sklearn.model_selection import GridSearchCV\n",
    "from sklearn.tree import DecisionTreeClassifier\n",
    "\n",
    "import scipy.stats as stats\n",
    "\n",
    "from sklearn.model_selection import train_test_split\n",
    "\n",
    "import warnings\n",
    "warnings.filterwarnings('ignore')"
   ]
  },
  {
   "cell_type": "markdown",
   "metadata": {},
   "source": [
    "## Carga de datos y división en entrenamiento y evaluación\n",
    "\n",
    "La celda siguiente se encarga de la carga de datos (haciendo uso de pandas). Estos serán los que se trabajarán en el resto del laboratorio."
   ]
  },
  {
   "cell_type": "code",
   "execution_count": 20,
   "metadata": {},
   "outputs": [],
   "source": [
    "dataset = pd.read_csv(\"../data/loan_data.csv\", comment=\"#\")\n",
    "\n",
    "# División entre instancias y etiquetas\n",
    "X, y = dataset.iloc[:, 1:], dataset.TARGET\n",
    "\n",
    "# división entre entrenamiento y evaluación\n",
    "X_train, X_test, y_train, y_test = train_test_split(X, y, test_size=0.2, random_state=0)"
   ]
  },
  {
   "cell_type": "markdown",
   "metadata": {},
   "source": [
    "\n",
    "Documentación:\n",
    "\n",
    "- https://scikit-learn.org/stable/modules/generated/sklearn.model_selection.train_test_split.html"
   ]
  },
  {
   "cell_type": "markdown",
   "metadata": {},
   "source": [
    "## Ejercicio 1: Descripción de los Datos y la Tarea\n",
    "\n",
    "Responder las siguientes preguntas:\n",
    "\n",
    "1. ¿De qué se trata el conjunto de datos?\n",
    "2. ¿Cuál es la variable objetivo que hay que predecir? ¿Qué significado tiene?\n",
    "3. ¿Qué información (atributos) hay disponible para hacer la predicción?\n",
    "4. ¿Qué atributos imagina ud. que son los más determinantes para la predicción?\n",
    "\n",
    "**No hace falta escribir código para responder estas preguntas.**"
   ]
  },
  {
   "cell_type": "markdown",
   "metadata": {},
   "source": [
    "## Ejercicio 2: Predicción con Modelos Lineales\n",
    "\n",
    "En este ejercicio se entrenarán modelos lineales de clasificación para predecir la variable objetivo.\n",
    "\n",
    "Para ello, deberán utilizar la clase SGDClassifier de scikit-learn.\n",
    "\n",
    "Documentación:\n",
    "- https://scikit-learn.org/stable/modules/sgd.html\n",
    "- https://scikit-learn.org/stable/modules/generated/sklearn.linear_model.SGDClassifier.html\n"
   ]
  },
  {
   "cell_type": "markdown",
   "metadata": {},
   "source": [
    "### Ejercicio 2.1: SGDClassifier con hiperparámetros por defecto\n",
    "\n",
    "Entrenar y evaluar el clasificador SGDClassifier usando los valores por omisión de scikit-learn para todos los parámetros. Únicamente **fijar la semilla aleatoria** para hacer repetible el experimento.\n",
    "\n",
    "Evaluar sobre el conjunto de **entrenamiento** y sobre el conjunto de **evaluación**, reportando:\n",
    "- Accuracy\n",
    "- Precision\n",
    "- Recall\n",
    "- F1\n",
    "- matriz de confusión"
   ]
  },
  {
   "cell_type": "code",
   "execution_count": 24,
   "metadata": {},
   "outputs": [
    {
     "name": "stdout",
     "output_type": "stream",
     "text": [
      "Train Precission score: 0.0\n",
      "Test Precission score: 0.0\n",
      "Train Accuracy score: 0.83\n",
      "Test Accuracy score: 0.84\n",
      "Train Recall score: 0.0\n",
      "Test Recall score: 0.0\n",
      "Train F1 score: 0.0\n",
      "Test F1 score: 0.0\n",
      "Matriz de confusion train:\n",
      "[[1232    0]\n",
      " [ 251    0]]\n",
      "Matriz de confusion test:\n",
      "[[313   0]\n",
      " [ 58   0]]\n"
     ]
    }
   ],
   "source": [
    "clf = SGDClassifier(random_state=0)\n",
    "\n",
    "clf.fit(X_train, y_train)\n",
    "\n",
    "y_train_pred = clf.predict(X_train)\n",
    "y_test_pred = clf.predict(X_test)\n",
    "\n",
    "modelos = {'Precission score': precision_score,\n",
    "          'Accuracy score': accuracy_score,\n",
    "          'Recall score': recall_score,\n",
    "          'F1 score': f1_score}\n",
    "\n",
    "for model_name, model in modelos.items():\n",
    "    train = model(y_train, y_train_pred)\n",
    "    test = model(y_test, y_test_pred)\n",
    "    print(f'Train {model_name}: {train:0.2}')\n",
    "    print(f'Test {model_name}: {test:0.2}')\n",
    "\n",
    "print('Matriz de confusion train:')\n",
    "print(confusion_matrix(y_train, y_train_pred))\n",
    "print('Matriz de confusion test:')\n",
    "print(confusion_matrix(y_test, y_test_pred))"
   ]
  },
  {
   "cell_type": "markdown",
   "metadata": {
    "tags": []
   },
   "source": [
    "### Ejercicio 2.2: Ajuste de Hiperparámetros\n",
    "\n",
    "Seleccionar valores para los hiperparámetros principales del SGDClassifier. Como mínimo, probar diferentes funciones de loss, tasas de entrenamiento y tasas de regularización.\n",
    "\n",
    "Para ello, usar grid-search y 5-fold cross-validation sobre el conjunto de entrenamiento para explorar muchas combinaciones posibles de valores.\n",
    "\n",
    "Reportar accuracy promedio y varianza para todas las configuraciones.\n",
    "\n",
    "Para la mejor configuración encontrada, evaluar sobre el conjunto de **entrenamiento** y sobre el conjunto de **evaluación**, reportando:\n",
    "- Accuracy\n",
    "- Precision\n",
    "- Recall\n",
    "- F1\n",
    "- matriz de confusión\n",
    "\n",
    "Documentación:\n",
    "- https://scikit-learn.org/stable/modules/grid_search.html\n",
    "- https://scikit-learn.org/stable/modules/generated/sklearn.model_selection.GridSearchCV.html"
   ]
  },
  {
   "cell_type": "code",
   "execution_count": 4,
   "metadata": {},
   "outputs": [],
   "source": [
    "clf = SGDClassifier(random_state=0)\n",
    "\n",
    "param_grid = {\n",
    "    \"loss\" : [\"hinge\", \"log\", \"squared_hinge\", \"modified_huber\"],\n",
    "    \"alpha\" : [0.0001, 0.001, 0.01, 0.1],\n",
    "    \"penalty\" : [\"l2\", \"l1\", \"none\"],\n",
    "    \"average\": [True, False],\n",
    "    #\"l1_ratio\": stats.uniform(0, 1),\n",
    "}\n",
    "\n",
    "cv = GridSearchCV(clf, param_grid, scoring='accuracy', cv=5)\n",
    "cv.fit(X_train, y_train);"
   ]
  },
  {
   "cell_type": "code",
   "execution_count": 5,
   "metadata": {},
   "outputs": [
    {
     "data": {
      "text/html": [
       "<div>\n",
       "<style scoped>\n",
       "    .dataframe tbody tr th:only-of-type {\n",
       "        vertical-align: middle;\n",
       "    }\n",
       "\n",
       "    .dataframe tbody tr th {\n",
       "        vertical-align: top;\n",
       "    }\n",
       "\n",
       "    .dataframe thead th {\n",
       "        text-align: right;\n",
       "    }\n",
       "</style>\n",
       "<table border=\"1\" class=\"dataframe\">\n",
       "  <thead>\n",
       "    <tr style=\"text-align: right;\">\n",
       "      <th></th>\n",
       "      <th>param_loss</th>\n",
       "      <th>param_alpha</th>\n",
       "      <th>mean_test_score</th>\n",
       "      <th>std_test_score</th>\n",
       "      <th>rank_test_score</th>\n",
       "    </tr>\n",
       "  </thead>\n",
       "  <tbody>\n",
       "    <tr>\n",
       "      <th>0</th>\n",
       "      <td>hinge</td>\n",
       "      <td>0.0001</td>\n",
       "      <td>0.830749</td>\n",
       "      <td>0.001259</td>\n",
       "      <td>1</td>\n",
       "    </tr>\n",
       "    <tr>\n",
       "      <th>1</th>\n",
       "      <td>hinge</td>\n",
       "      <td>0.0001</td>\n",
       "      <td>0.830749</td>\n",
       "      <td>0.001259</td>\n",
       "      <td>1</td>\n",
       "    </tr>\n",
       "    <tr>\n",
       "      <th>2</th>\n",
       "      <td>hinge</td>\n",
       "      <td>0.0001</td>\n",
       "      <td>0.830749</td>\n",
       "      <td>0.001259</td>\n",
       "      <td>1</td>\n",
       "    </tr>\n",
       "    <tr>\n",
       "      <th>3</th>\n",
       "      <td>log</td>\n",
       "      <td>0.0001</td>\n",
       "      <td>0.830749</td>\n",
       "      <td>0.001259</td>\n",
       "      <td>1</td>\n",
       "    </tr>\n",
       "    <tr>\n",
       "      <th>4</th>\n",
       "      <td>log</td>\n",
       "      <td>0.0001</td>\n",
       "      <td>0.830749</td>\n",
       "      <td>0.001259</td>\n",
       "      <td>1</td>\n",
       "    </tr>\n",
       "    <tr>\n",
       "      <th>...</th>\n",
       "      <td>...</td>\n",
       "      <td>...</td>\n",
       "      <td>...</td>\n",
       "      <td>...</td>\n",
       "      <td>...</td>\n",
       "    </tr>\n",
       "    <tr>\n",
       "      <th>91</th>\n",
       "      <td>squared_hinge</td>\n",
       "      <td>0.1</td>\n",
       "      <td>0.823342</td>\n",
       "      <td>0.014412</td>\n",
       "      <td>69</td>\n",
       "    </tr>\n",
       "    <tr>\n",
       "      <th>92</th>\n",
       "      <td>squared_hinge</td>\n",
       "      <td>0.1</td>\n",
       "      <td>0.691582</td>\n",
       "      <td>0.261635</td>\n",
       "      <td>84</td>\n",
       "    </tr>\n",
       "    <tr>\n",
       "      <th>93</th>\n",
       "      <td>modified_huber</td>\n",
       "      <td>0.1</td>\n",
       "      <td>0.830749</td>\n",
       "      <td>0.001259</td>\n",
       "      <td>1</td>\n",
       "    </tr>\n",
       "    <tr>\n",
       "      <th>94</th>\n",
       "      <td>modified_huber</td>\n",
       "      <td>0.1</td>\n",
       "      <td>0.714251</td>\n",
       "      <td>0.234230</td>\n",
       "      <td>74</td>\n",
       "    </tr>\n",
       "    <tr>\n",
       "      <th>95</th>\n",
       "      <td>modified_huber</td>\n",
       "      <td>0.1</td>\n",
       "      <td>0.819936</td>\n",
       "      <td>0.023242</td>\n",
       "      <td>72</td>\n",
       "    </tr>\n",
       "  </tbody>\n",
       "</table>\n",
       "<p>96 rows × 5 columns</p>\n",
       "</div>"
      ],
      "text/plain": [
       "        param_loss param_alpha  mean_test_score  std_test_score  \\\n",
       "0            hinge      0.0001         0.830749        0.001259   \n",
       "1            hinge      0.0001         0.830749        0.001259   \n",
       "2            hinge      0.0001         0.830749        0.001259   \n",
       "3              log      0.0001         0.830749        0.001259   \n",
       "4              log      0.0001         0.830749        0.001259   \n",
       "..             ...         ...              ...             ...   \n",
       "91   squared_hinge         0.1         0.823342        0.014412   \n",
       "92   squared_hinge         0.1         0.691582        0.261635   \n",
       "93  modified_huber         0.1         0.830749        0.001259   \n",
       "94  modified_huber         0.1         0.714251        0.234230   \n",
       "95  modified_huber         0.1         0.819936        0.023242   \n",
       "\n",
       "    rank_test_score  \n",
       "0                 1  \n",
       "1                 1  \n",
       "2                 1  \n",
       "3                 1  \n",
       "4                 1  \n",
       "..              ...  \n",
       "91               69  \n",
       "92               84  \n",
       "93                1  \n",
       "94               74  \n",
       "95               72  \n",
       "\n",
       "[96 rows x 5 columns]"
      ]
     },
     "execution_count": 5,
     "metadata": {},
     "output_type": "execute_result"
    }
   ],
   "source": [
    "results = cv.cv_results_\n",
    "df = pd.DataFrame(results)\n",
    "df[['param_loss', 'param_alpha', 'mean_test_score', 'std_test_score', 'rank_test_score']]"
   ]
  },
  {
   "cell_type": "code",
   "execution_count": 6,
   "metadata": {},
   "outputs": [
    {
     "data": {
      "text/plain": [
       "SGDClassifier(average=True, random_state=0)"
      ]
     },
     "execution_count": 6,
     "metadata": {},
     "output_type": "execute_result"
    }
   ],
   "source": [
    "cv.best_estimator_"
   ]
  },
  {
   "cell_type": "code",
   "execution_count": 7,
   "metadata": {},
   "outputs": [
    {
     "data": {
      "text/plain": [
       "{'alpha': 0.0001, 'average': True, 'loss': 'hinge', 'penalty': 'l2'}"
      ]
     },
     "execution_count": 7,
     "metadata": {},
     "output_type": "execute_result"
    }
   ],
   "source": [
    "cv.best_params_"
   ]
  },
  {
   "cell_type": "code",
   "execution_count": 8,
   "metadata": {},
   "outputs": [
    {
     "name": "stdout",
     "output_type": "stream",
     "text": [
      "Train Precission score: 0.0\n",
      "Test Precission score: 0.0\n",
      "Train Accuracy score: 0.83\n",
      "Test Accuracy score: 0.84\n",
      "Train Recall score: 0.0\n",
      "Test Recall score: 0.0\n",
      "Train F1 score: 0.0\n",
      "Test F1 score: 0.0\n",
      "Matriz de confusion train:\n",
      "[[1232    0]\n",
      " [ 251    0]]\n",
      "Matriz de confusion test:\n",
      "[[313   0]\n",
      " [ 58   0]]\n"
     ]
    },
    {
     "name": "stderr",
     "output_type": "stream",
     "text": [
      "/home/fligoonaut/anaconda3/lib/python3.9/site-packages/sklearn/metrics/_classification.py:1318: UndefinedMetricWarning: Precision is ill-defined and being set to 0.0 due to no predicted samples. Use `zero_division` parameter to control this behavior.\n",
      "  _warn_prf(average, modifier, msg_start, len(result))\n",
      "/home/fligoonaut/anaconda3/lib/python3.9/site-packages/sklearn/metrics/_classification.py:1318: UndefinedMetricWarning: Precision is ill-defined and being set to 0.0 due to no predicted samples. Use `zero_division` parameter to control this behavior.\n",
      "  _warn_prf(average, modifier, msg_start, len(result))\n"
     ]
    }
   ],
   "source": [
    "best_model = cv.best_estimator_\n",
    "\n",
    "best_model.fit(X_train, y_train)\n",
    "\n",
    "y_train_pred = best_model.predict(X_train)\n",
    "y_test_pred = best_model.predict(X_test)\n",
    "\n",
    "modelos = {'Precission score': precision_score,\n",
    "          'Accuracy score': accuracy_score,\n",
    "          'Recall score': recall_score,\n",
    "          'F1 score': f1_score}\n",
    "\n",
    "for model_name, model in modelos.items():\n",
    "    train = model(y_train, y_train_pred)\n",
    "    test = model(y_test, y_test_pred)\n",
    "    print(f'Train {model_name}: {train:0.2}')\n",
    "    print(f'Test {model_name}: {test:0.2}')\n",
    "\n",
    "print('Matriz de confusion train:')\n",
    "print(confusion_matrix(y_train, y_train_pred))\n",
    "print('Matriz de confusion test:')\n",
    "print(confusion_matrix(y_test, y_test_pred))"
   ]
  },
  {
   "cell_type": "markdown",
   "metadata": {},
   "source": [
    "## Ejercicio 3: Árboles de Decisión\n",
    "\n",
    "En este ejercicio se entrenarán árboles de decisión para predecir la variable objetivo.\n",
    "\n",
    "Para ello, deberán utilizar la clase DecisionTreeClassifier de scikit-learn.\n",
    "\n",
    "Documentación:\n",
    "- https://scikit-learn.org/stable/modules/tree.html\n",
    "  - https://scikit-learn.org/stable/modules/tree.html#tips-on-practical-use\n",
    "- https://scikit-learn.org/stable/modules/generated/sklearn.tree.DecisionTreeClassifier.html\n",
    "- https://scikit-learn.org/stable/auto_examples/tree/plot_unveil_tree_structure.html"
   ]
  },
  {
   "cell_type": "markdown",
   "metadata": {},
   "source": [
    "### Ejercicio 3.1: DecisionTreeClassifier con hiperparámetros por defecto\n",
    "\n",
    "Entrenar y evaluar el clasificador DecisionTreeClassifier usando los valores por omisión de scikit-learn para todos los parámetros. Únicamente **fijar la semilla aleatoria** para hacer repetible el experimento.\n",
    "\n",
    "Evaluar sobre el conjunto de **entrenamiento** y sobre el conjunto de **evaluación**, reportando:\n",
    "- Accuracy\n",
    "- Precision\n",
    "- Recall\n",
    "- F1\n",
    "- matriz de confusión\n"
   ]
  },
  {
   "cell_type": "code",
   "execution_count": 10,
   "metadata": {},
   "outputs": [
    {
     "name": "stdout",
     "output_type": "stream",
     "text": [
      "Train Precission score: 1.0\n",
      "Test Precission score: 0.62\n",
      "Train Accuracy score: 1.0\n",
      "Test Accuracy score: 0.88\n",
      "Train Recall score: 1.0\n",
      "Test Recall score: 0.64\n",
      "Train F1 score: 1.0\n",
      "Test F1 score: 0.63\n",
      "Matriz de confusion train:\n",
      "[[1232    0]\n",
      " [   0  251]]\n",
      "Matriz de confusion test:\n",
      "[[290  23]\n",
      " [ 21  37]]\n"
     ]
    }
   ],
   "source": [
    "clf = DecisionTreeClassifier(random_state=0)\n",
    "\n",
    "clf.fit(X_train, y_train)\n",
    "\n",
    "y_train_pred = clf.predict(X_train)\n",
    "y_test_pred = clf.predict(X_test)\n",
    "\n",
    "modelos = {'Precission score': precision_score,\n",
    "          'Accuracy score': accuracy_score,\n",
    "          'Recall score': recall_score,\n",
    "          'F1 score': f1_score}\n",
    "\n",
    "for model_name, model in modelos.items():\n",
    "    train = model(y_train, y_train_pred)\n",
    "    test = model(y_test, y_test_pred)\n",
    "    print(f'Train {model_name}: {train:0.2}')\n",
    "    print(f'Test {model_name}: {test:0.2}')\n",
    "\n",
    "print('Matriz de confusion train:')\n",
    "print(confusion_matrix(y_train, y_train_pred))\n",
    "print('Matriz de confusion test:')\n",
    "print(confusion_matrix(y_test, y_test_pred))"
   ]
  },
  {
   "cell_type": "markdown",
   "metadata": {},
   "source": [
    "### Ejercicio 3.2: Ajuste de Hiperparámetros\n",
    "\n",
    "Seleccionar valores para los hiperparámetros principales del DecisionTreeClassifier. Como mínimo, probar diferentes criterios de partición (criterion), profundidad máxima del árbol (max_depth), y cantidad mínima de samples por hoja (min_samples_leaf).\n",
    "\n",
    "Para ello, usar grid-search y 5-fold cross-validation sobre el conjunto de entrenamiento para explorar muchas combinaciones posibles de valores.\n",
    "\n",
    "Reportar accuracy promedio y varianza para todas las configuraciones.\n",
    "\n",
    "Para la mejor configuración encontrada, evaluar sobre el conjunto de **entrenamiento** y sobre el conjunto de **evaluación**, reportando:\n",
    "- Accuracy\n",
    "- Precision\n",
    "- Recall\n",
    "- F1\n",
    "- matriz de confusión\n",
    "\n",
    "\n",
    "Documentación:\n",
    "- https://scikit-learn.org/stable/modules/grid_search.html\n",
    "- https://scikit-learn.org/stable/modules/generated/sklearn.model_selection.GridSearchCV.html"
   ]
  },
  {
   "cell_type": "code",
   "execution_count": 11,
   "metadata": {},
   "outputs": [],
   "source": [
    "clf = DecisionTreeClassifier(random_state=0)\n",
    "\n",
    "param_grid = {\n",
    "    'criterion': ['gini', 'entropy'],\n",
    "    'max_depth': [1, 2,3],\n",
    "    'min_samples_leaf': [1,2,3,4]\n",
    "}\n",
    "\n",
    "cv = GridSearchCV(clf, param_grid, scoring='accuracy', cv=5)\n",
    "cv.fit(X_train, y_train);"
   ]
  },
  {
   "cell_type": "code",
   "execution_count": 13,
   "metadata": {},
   "outputs": [
    {
     "name": "stdout",
     "output_type": "stream",
     "text": [
      "crit.\tdepth\t| mean\tstd\trank\n",
      "gini\t1\t| 0.87\t0.01\t13\n",
      "gini\t1\t| 0.87\t0.01\t13\n",
      "gini\t1\t| 0.87\t0.01\t13\n",
      "gini\t1\t| 0.87\t0.01\t13\n",
      "gini\t2\t| 0.87\t0.01\t9\n",
      "gini\t2\t| 0.87\t0.01\t9\n",
      "gini\t2\t| 0.87\t0.01\t9\n",
      "gini\t2\t| 0.87\t0.01\t9\n",
      "gini\t3\t| 0.88\t0.01\t1\n",
      "gini\t3\t| 0.88\t0.01\t1\n",
      "gini\t3\t| 0.88\t0.01\t1\n",
      "gini\t3\t| 0.88\t0.01\t1\n",
      "entropy\t1\t| 0.87\t0.01\t13\n",
      "entropy\t1\t| 0.87\t0.01\t13\n",
      "entropy\t1\t| 0.87\t0.01\t13\n",
      "entropy\t1\t| 0.87\t0.01\t13\n",
      "entropy\t2\t| 0.87\t0.01\t21\n",
      "entropy\t2\t| 0.87\t0.01\t21\n",
      "entropy\t2\t| 0.87\t0.01\t21\n",
      "entropy\t2\t| 0.87\t0.01\t21\n",
      "entropy\t3\t| 0.87\t0.01\t5\n",
      "entropy\t3\t| 0.87\t0.01\t5\n",
      "entropy\t3\t| 0.87\t0.01\t5\n",
      "entropy\t3\t| 0.87\t0.01\t5\n"
     ]
    }
   ],
   "source": [
    "results = cv.cv_results_\n",
    "params = results['params']\n",
    "mean = results['mean_test_score']\n",
    "std = results['std_test_score']\n",
    "rank = results['rank_test_score']\n",
    "\n",
    "print(\"crit.\\tdepth\\t| mean\\tstd\\trank\")\n",
    "for p, m, s, r in zip(params, mean, std, rank):\n",
    "    print(f\"{p['criterion']}\\t{p['max_depth']}\\t| {m:0.2f}\\t{s:0.2f}\\t{r}\")"
   ]
  },
  {
   "cell_type": "code",
   "execution_count": 14,
   "metadata": {},
   "outputs": [
    {
     "name": "stdout",
     "output_type": "stream",
     "text": [
      "Train Precission score: 0.81\n",
      "Test Precission score: 0.65\n",
      "Train Accuracy score: 0.88\n",
      "Test Accuracy score: 0.87\n",
      "Train Recall score: 0.41\n",
      "Test Recall score: 0.41\n",
      "Train F1 score: 0.55\n",
      "Test F1 score: 0.51\n",
      "Matriz de confusion train:\n",
      "[[1207   25]\n",
      " [ 147  104]]\n",
      "Matriz de confusion test:\n",
      "[[300  13]\n",
      " [ 34  24]]\n"
     ]
    }
   ],
   "source": [
    "best_model = cv.best_estimator_\n",
    "\n",
    "best_model.fit(X_train, y_train)\n",
    "\n",
    "y_train_pred = best_model.predict(X_train)\n",
    "y_test_pred = best_model.predict(X_test)\n",
    "\n",
    "modelos = {'Precission score': precision_score,\n",
    "          'Accuracy score': accuracy_score,\n",
    "          'Recall score': recall_score,\n",
    "          'F1 score': f1_score}\n",
    "\n",
    "for model_name, model in modelos.items():\n",
    "    train = model(y_train, y_train_pred)\n",
    "    test = model(y_test, y_test_pred)\n",
    "    print(f'Train {model_name}: {train:0.2}')\n",
    "    print(f'Test {model_name}: {test:0.2}')\n",
    "\n",
    "print('Matriz de confusion train:')\n",
    "print(confusion_matrix(y_train, y_train_pred))\n",
    "print('Matriz de confusion test:')\n",
    "print(confusion_matrix(y_test, y_test_pred))"
   ]
  },
  {
   "cell_type": "code",
   "execution_count": null,
   "metadata": {},
   "outputs": [],
   "source": []
  }
 ],
 "metadata": {
  "kernelspec": {
   "display_name": "Python 3 (ipykernel)",
   "language": "python",
   "name": "python3"
  },
  "language_info": {
   "codemirror_mode": {
    "name": "ipython",
    "version": 3
   },
   "file_extension": ".py",
   "mimetype": "text/x-python",
   "name": "python",
   "nbconvert_exporter": "python",
   "pygments_lexer": "ipython3",
   "version": "3.9.12"
  }
 },
 "nbformat": 4,
 "nbformat_minor": 4
}
